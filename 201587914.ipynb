{
 "cells": [
  {
   "cell_type": "code",
   "execution_count": 5,
   "metadata": {},
   "outputs": [],
   "source": [
    "import os\n",
    "import random\n",
    "import cv2\n",
    "import numpy as np\n",
    "import torch\n",
    "from PIL import Image\n",
    "from torchvision import models, transforms\n",
    "import time\n",
    "import matplotlib.pyplot as plt\n",
    "plt.rcParams[\"axes.grid\"] = False"
   ]
  },
  {
   "cell_type": "code",
   "execution_count": 6,
   "metadata": {},
   "outputs": [
    {
     "name": "stdout",
     "output_type": "stream",
     "text": []
    },
    {
     "name": "stdout",
     "output_type": "stream",
     "text": []
    }
   ],
   "source": [
    "# Check if cuda is available\n",
    "device = torch.device(\"cuda\" if torch.cuda.is_available() else \"cpu\")\n",
    "if device.type == \"cpu\":\n",
    "    print(\"Running on CPU.\")\n",
    "else:\n",
    "    print(\"Running on GPU.\")\n",
    "\n",
    "model = models.detection.maskrcnn_resnet50_fpn(pretrained=True).to(device).eval()"
   ]
  },
  {
   "cell_type": "code",
   "execution_count": null,
   "metadata": {},
   "outputs": [
    {
     "name": "stdout",
     "output_type": "stream",
     "text": []
    }
   ],
   "source": [
    "# Initialize webcam\n",
    "cam = cv2.VideoCapture(0)\n",
    "if not cam.isOpened(): \n",
    "    print(\"No camera detected!\")\n",
    "    exit()\n",
    "\n",
    "# COCO labels\n",
    "coco_names = [\n",
    "    'unlabeled', 'person', 'bicycle', 'car', 'motorcycle', 'airplane', 'bus', 'train', 'truck', 'boat', 'traffic light', \n",
    "    'fire hydrant', 'street sign', 'stop sign', 'parking meter', 'bench', 'bird', 'cat', 'dog', 'horse', 'sheep', 'cow', \n",
    "    'elephant', 'bear', 'zebra', 'giraffe', 'hat', 'backpack', 'umbrella', 'shoe', 'eye glasses', 'handbag', 'tie', \n",
    "    'suitcase', 'frisbee', 'skis', 'snowboard', 'sports ball', 'kite', 'baseball bat', 'baseball glove', 'skateboard', \n",
    "    'surfboard', 'tennis racket', 'bottle', 'plate', 'wine glass', 'cup', 'fork', 'knife', 'spoon', 'bowl', 'banana', \n",
    "    'apple', 'sandwich', 'orange', 'broccoli', 'carrot', 'hot dog', 'pizza', 'donut', 'cake', 'chair', 'couch', \n",
    "    'potted plant', 'bed', 'mirror', 'dining table', 'window', 'desk', 'toilet', 'door', 'tv', 'laptop', 'mouse', \n",
    "    'remote', 'keyboard', 'cell phone', 'microwave', 'oven', 'toaster', 'sink', 'refrigerator', 'blender', 'book', \n",
    "    'clock', 'vase', 'scissors', 'teddy bear', 'hair drier', 'toothbrush'\n",
    "]\n",
    "\n",
    "# Random colors for each class\n",
    "colors = [[random.randint(0, 255) for _ in range(3)] for _ in coco_names]\n",
    "\n",
    "# Preprocessing transformation\n",
    "transform = transforms.Compose([\n",
    "    transforms.ToTensor(),\n",
    "])\n",
    "\n",
    "\n",
    "while True:\n",
    "    ret, frame = cam.read()\n",
    "    frame = cv2.resize(frame, (320, 240))\n",
    "    if not ret:\n",
    "        print(\"Failed to capture image\")\n",
    "        break\n",
    "\n",
    "\n",
    "    # Convert frame to PIL Image and Tensor\n",
    "    image = Image.fromarray(cv2.cvtColor(frame, cv2.COLOR_BGR2RGB))\n",
    "    image_tensor = transform(image).unsqueeze(0).to(device)\n",
    "\n",
    "    # Run inference\n",
    "    with torch.no_grad():\n",
    "        output = model(image_tensor)[0]\n",
    "\n",
    "    # Copy frame for drawing\n",
    "    result_image = frame.copy()\n",
    "    mask_overlay = np.zeros_like(frame, dtype=np.uint8)  # Create a blank mask\n",
    "\n",
    "    # Draw bounding boxes, labels, and masks\n",
    "    for box, label, score, mask in zip(output['boxes'], output['labels'], output['scores'], output['masks']):\n",
    "        if score > 0.65:  # Confidence threshold\n",
    "            x1, y1, x2, y2 = map(int, box.tolist())\n",
    "\n",
    "            # Draw bounding box\n",
    "            color = colors[label]\n",
    "            cv2.rectangle(result_image, (x1, y1), (x2, y2), color, 3)\n",
    "\n",
    "            # Draw label\n",
    "            text = f\"{coco_names[label]}: {score:.2f}\"\n",
    "            text_size = 0.5\n",
    "            text_thickness = 1\n",
    "            text_font = cv2.FONT_HERSHEY_SIMPLEX\n",
    "            lineType = cv2.LINE_AA\n",
    "            cv2.putText(result_image, text, (x1, y1 - 5), text_font, text_size, color, text_thickness, lineType)\n",
    "\n",
    "            # Process the mask\n",
    "            mask = mask.squeeze().detach().cpu().numpy() > 0.5  # Threshold the mask\n",
    "            frame[mask] = (frame[mask] * 0.5 + np.array(color) * 0.5).astype(np.uint8)\n",
    "\n",
    "    # Blend mask overlay with the result image\n",
    "    result_image = cv2.addWeighted(result_image, 1, frame, 0.5, 0)\n",
    "\n",
    "    # Show result\n",
    "    cv2.imshow(\"Mask R-CNN - Real Time\", result_image)\n",
    "\n",
    "    # Exit on 'q' key press\n",
    "    if cv2.waitKey(1) & 0xFF == ord('q'):\n",
    "        break\n",
    "\n",
    "# Cleanup\n",
    "cam.release()\n",
    "cv2.destroyAllWindows()"
   ]
  }
 ],
 "metadata": {
  "kernelspec": {
   "display_name": "Python 3",
   "language": "python",
   "name": "python3"
  },
  "language_info": {
   "codemirror_mode": {
    "name": "ipython",
    "version": 3
   },
   "file_extension": ".py",
   "mimetype": "text/x-python",
   "name": "python",
   "nbconvert_exporter": "python",
   "pygments_lexer": "ipython3",
   "version": "3.12.6"
  }
 },
 "nbformat": 4,
 "nbformat_minor": 2
}
